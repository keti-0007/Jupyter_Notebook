{
 "cells": [
  {
   "cell_type": "markdown",
   "metadata": {
    "id": "N75bRx9BrTqR"
   },
   "source": [
    "## Домашнее задание 2\n"
   ]
  },
  {
   "cell_type": "markdown",
   "metadata": {
    "id": "0RwNa1XPrXGs"
   },
   "source": [
    "На складе лежат разные фрукты в разном количестве.\n",
    "Нужно написать функцию, которая на вход принимает любое количество названий фруктов и их количество, а возвращает общее количество фруктов на складе\n",
    "\n"
   ]
  },
  {
   "cell_type": "code",
   "execution_count": 13,
   "metadata": {
    "colab": {
     "base_uri": "https://localhost:8080/"
    },
    "id": "wFk292M2w_Yg",
    "outputId": "8d5376ca-80f4-4cac-a053-c96f6b57a2aa"
   },
   "outputs": [
    {
     "name": "stdout",
     "output_type": "stream",
     "text": [
      "{'banana': 8, 'mango': 5, 'apple': 8}\n"
     ]
    },
    {
     "data": {
      "text/plain": [
       "21"
      ]
     },
     "execution_count": 13,
     "metadata": {},
     "output_type": "execute_result"
    }
   ],
   "source": [
    "def frutis(**kwargs):\n",
    "  print(kwargs)\n",
    "  for key, value in kwargs.items():\n",
    "    return sum(kwargs.values())\n",
    "frutis(banana=8, mango=5, apple=8)"
   ]
  },
  {
   "cell_type": "markdown",
   "metadata": {
    "id": "DA_UEzYi3TFn"
   },
   "source": [
    "## Домашнее задание 3"
   ]
  },
  {
   "cell_type": "markdown",
   "metadata": {},
   "source": [
    "- Дан список с затратами на рекламу. Но в данных есть ошибки, некоторые затраты имеют отрицательную величину. Удалите такие значения из списка и посчитайте суммарные затраты\n",
    "\n",
    "- Используйте list comprehensions\n"
   ]
  },
  {
   "cell_type": "code",
   "execution_count": 39,
   "metadata": {},
   "outputs": [
    {
     "name": "stdout",
     "output_type": "stream",
     "text": [
      "[100, 125, 345, 655, 0, 200]\n",
      "Cуммарные затраты = 1425\n"
     ]
    }
   ],
   "source": [
    "list_cosst = [100, 125, -90, 345, 655, -1, 0, 200]\n",
    "position_cosst = [i for i in list_cosst if i >= 0]\n",
    "print(position_cosst)\n",
    "print(f'Cуммарные затраты = {sum(position_cosst)}')"
   ]
  },
  {
   "cell_type": "markdown",
   "metadata": {},
   "source": [
    "## Домашнее задание 4 "
   ]
  },
  {
   "cell_type": "markdown",
   "metadata": {},
   "source": [
    "Даны два списка.\n",
    "Дата покупки и суммы покупок по датам\n",
    "Используйте list comprehensions"
   ]
  },
  {
   "cell_type": "markdown",
   "metadata": {},
   "source": [
    "### 4.1 Найдите, какая выручка у компании в ноябре"
   ]
  },
  {
   "cell_type": "code",
   "execution_count": 13,
   "metadata": {},
   "outputs": [],
   "source": [
    "list_dates = ['2021-09-14', '2021-12-15', '2021-09-08', '2021-12-05', '2021-10-09', '2021-09-30', '2021-12-22', '2021-11-29', '2021-12-24', '2021-11-26', '2021-10-27', '2021-12-18', '2021-11-09', '2021-11-23', '2021-09-27', '2021-10-02', '2021-12-27', '2021-09-20', '2021-12-13', '2021-11-01', '2021-11-09', '2021-12-06', '2021-12-08', '2021-10-09', '2021-10-31', '2021-09-30', '2021-11-09', '2021-12-13', '2021-10-26', '2021-12-09']\n",
    "\n",
    "\n",
    "amount_by_date = [1270, 8413, 9028, 3703, 5739, 4095, 295, 4944, 5723, 3701, 4471, 651, 7037, 4274, 6275, 4988, 6930, 2971, 6592, 2004, 2822, 519, 3406, 2732, 5015, 2008, 316, 6333, 5700, 2887]\n",
    "\n"
   ]
  },
  {
   "cell_type": "code",
   "execution_count": 14,
   "metadata": {},
   "outputs": [
    {
     "name": "stdout",
     "output_type": "stream",
     "text": [
      "['09', '12', '09', '12', '10', '09', '12', '11', '12', '11', '10', '12', '11', '11', '09', '10', '12', '09', '12', '11', '11', '12', '12', '10', '10', '09', '11', '12', '10', '12']\n"
     ]
    }
   ],
   "source": [
    "list_Month = [i.split('-')[1] for i in list_dates]\n",
    "print(list_Month)"
   ]
  },
  {
   "cell_type": "code",
   "execution_count": 48,
   "metadata": {},
   "outputs": [
    {
     "data": {
      "text/plain": [
       "[('Месяц 11', 'выручка 4944'),\n",
       " ('Месяц 11', 'выручка 3701'),\n",
       " ('Месяц 11', 'выручка 7037'),\n",
       " ('Месяц 11', 'выручка 4274'),\n",
       " ('Месяц 11', 'выручка 2004'),\n",
       " ('Месяц 11', 'выручка 2822'),\n",
       " ('Месяц 11', 'выручка 316')]"
      ]
     },
     "execution_count": 48,
     "metadata": {},
     "output_type": "execute_result"
    }
   ],
   "source": [
    "tuple_November_Revenue = [(f'Месяц {list_Month[i]}', f'выручка {amount_by_date[j]}')\n",
    "                          for i in range(len(list_Month))\n",
    "                          for j in range(len(amount_by_date))\n",
    "                          if i == j and list_Month[i] == '11']\n",
    "tuple_November_Revenue"
   ]
  },
  {
   "cell_type": "code",
   "execution_count": 47,
   "metadata": {},
   "outputs": [
    {
     "name": "stdout",
     "output_type": "stream",
     "text": [
      "25098\n"
     ]
    }
   ],
   "source": [
    "print(sum (amount_by_date[i] for i in range(len(list_dates)) if '-11-' in list_dates[i]))\n"
   ]
  },
  {
   "cell_type": "markdown",
   "metadata": {},
   "source": [
    "### 4.2 Найдите выручку компании в зависимости от месяца"
   ]
  },
  {
   "cell_type": "markdown",
   "metadata": {},
   "source": [
    "\n",
    "- Для этого напишите функцию, которая на вход принимает список с датами и список с выручкой, а на выходе словарь, где ключи - это месяцы, а значения - это выручка.\n",
    "\n",
    "- Используйте аннотирование типов.\n"
   ]
  },
  {
   "cell_type": "code",
   "execution_count": 46,
   "metadata": {},
   "outputs": [
    {
     "data": {
      "text/plain": [
       "{'09': 25647, '12': 45452, '10': 28645, '11': 25098}"
      ]
     },
     "execution_count": 46,
     "metadata": {},
     "output_type": "execute_result"
    }
   ],
   "source": [
    "def revenue_by_month(list_date: list, list_revenue: list) -> dict:\n",
    "    dict_Month = {}\n",
    "    for i in range(len(list_date)):\n",
    "        if list_date[i].split('-')[1] in dict_Month.keys():\n",
    "            dict_Month[list_date[i].split('-')[1]] += list_revenue[i]\n",
    "        else:\n",
    "            dict_Month[list_date[i].split('-')[1]] = list_revenue[i]\n",
    "    return dict_Month\n",
    "\n",
    "revenue_by_month(list_dates, amount_by_date)"
   ]
  },
  {
   "cell_type": "code",
   "execution_count": null,
   "metadata": {},
   "outputs": [],
   "source": []
  }
 ],
 "metadata": {
  "colab": {
   "provenance": []
  },
  "kernelspec": {
   "display_name": "Python 3 (ipykernel)",
   "language": "python",
   "name": "python3"
  },
  "language_info": {
   "codemirror_mode": {
    "name": "ipython",
    "version": 3
   },
   "file_extension": ".py",
   "mimetype": "text/x-python",
   "name": "python",
   "nbconvert_exporter": "python",
   "pygments_lexer": "ipython3",
   "version": "3.11.3"
  }
 },
 "nbformat": 4,
 "nbformat_minor": 1
}
